{
 "cells": [
  {
   "cell_type": "code",
   "execution_count": 1,
   "id": "0818724b-b50f-41c2-905d-61e20347d471",
   "metadata": {},
   "outputs": [],
   "source": [
    "import pandas as pd\n",
    "import numpy as np\n",
    "import re\n",
    "import string\n",
    "\n",
    "from sklearn.model_selection import train_test_split\n",
    "from sklearn.feature_extraction.text import TfidfVectorizer\n",
    "from sklearn.linear_model import LogisticRegression\n",
    "from sklearn.metrics import accuracy_score, classification_report, confusion_matrix\n",
    "import seaborn as sns\n",
    "import matplotlib.pyplot as plt"
   ]
  },
  {
   "cell_type": "code",
   "execution_count": 37,
   "id": "e47bb22f-29cf-42fe-a104-9d317282593e",
   "metadata": {},
   "outputs": [
    {
     "name": "stdout",
     "output_type": "stream",
     "text": [
      "📂 Fake قبل الإضافة: 23483 خبر\n",
      "📂 True قبل الإضافة: 21217 خبر\n",
      "✅ Fake بعد الإضافة: 23483 خبر\n",
      "✅ True بعد الإضافة: 21217 خبر\n"
     ]
    }
   ],
   "source": [
    "fake_df = pd.read_csv(\"/Users/abdelrhman/Downloads/Fake News/Fake.csv\")\n",
    "true_df = pd.read_csv(\"/Users/abdelrhman/Downloads/Fake News/True.csv\")\n",
    "\n",
    "print(f\"📂 Fake: {len(fake_df)} خبر\")\n",
    "print(f\"📂 True: {len(true_df)} خبر\")\n",
    "\n",
    "\n",
    "# 3️⃣ دمج الأخبار الجديدة\n",
    "fake_df = pd.concat([fake_df, pd.DataFrame(fake_data)], ignore_index=True)\n",
    "true_df = pd.concat([true_df, pd.DataFrame(real_data)], ignore_index=True)\n",
    "\n",
    "# إزالة التكرارات\n",
    "fake_df.drop_duplicates(inplace=True)\n",
    "true_df.drop_duplicates(inplace=True)\n",
    "\n",
    "# حفظ الملفات المحدثة\n",
    "fake_df.to_csv(\"/Users/abdelrhman/Downloads/Fake News/Fake.csv\", index=False)\n",
    "true_df.to_csv(\"/Users/abdelrhman/Downloads/Fake News/True.csv\", index=False)\n",
    "\n",
    "print(f\"✅ Fake بعد الإضافة: {len(fake_df)} خبر\")\n",
    "print(f\"✅ True بعد الإضافة: {len(true_df)} خبر\")"
   ]
  },
  {
   "cell_type": "code",
   "execution_count": 39,
   "id": "0b93d5e7-b093-41e7-ba03-4a057db28430",
   "metadata": {},
   "outputs": [],
   "source": [
    "# 4️⃣ تجهيز البيانات للتدريب\n",
    "fake_df['label'] = 0\n",
    "true_df['label'] = 1\n",
    "df = pd.concat([fake_df, true_df], axis=0).reset_index(drop=True)\n",
    "\n",
    "# تنظيف النصوص\n",
    "def clean_text(text):\n",
    "    if pd.isnull(text):\n",
    "        return \"\"\n",
    "    text = text.lower()\n",
    "    text = re.sub(r'\\[.*?\\]', '', text)\n",
    "    text = re.sub(r'https?://\\S+|www\\.\\S+', '', text)\n",
    "    text = re.sub(r'<.*?>+', '', text)\n",
    "    text = re.sub(r'[%s]' % re.escape(string.punctuation), '', text)\n",
    "    text = re.sub(r'\\n', ' ', text)\n",
    "    text = re.sub(r'\\w*\\d\\w*', '', text)\n",
    "    return text.strip()\n",
    "\n",
    "df['text'] = (df['title'] + \" \" + df['text']).apply(clean_text)"
   ]
  },
  {
   "cell_type": "code",
   "execution_count": 41,
   "id": "6b1da67e-7a66-407d-8ca0-c30935cc27c8",
   "metadata": {},
   "outputs": [],
   "source": [
    "# 5️⃣ تقسيم البيانات\n",
    "X_train, X_test, y_train, y_test = train_test_split(df['text'], df['label'], test_size=0.2, random_state=42)\n",
    "\n",
    "# 6️⃣ تحويل النصوص إلى أرقام\n",
    "vectorizer = TfidfVectorizer(stop_words='english', max_df=0.7)\n",
    "X_train_tfidf = vectorizer.fit_transform(X_train)\n",
    "X_test_tfidf = vectorizer.transform(X_test)"
   ]
  },
  {
   "cell_type": "code",
   "execution_count": 43,
   "id": "75c536f5-5c43-4c9b-b7b0-8e9e8848dcae",
   "metadata": {},
   "outputs": [
    {
     "name": "stdout",
     "output_type": "stream",
     "text": [
      "\n",
      "🎯 Accuracy: 0.9862\n",
      "\n",
      "📊 Classification Report:\n",
      "               precision    recall  f1-score   support\n",
      "\n",
      "           0       0.99      0.99      0.99      4719\n",
      "           1       0.98      0.99      0.99      4221\n",
      "\n",
      "    accuracy                           0.99      8940\n",
      "   macro avg       0.99      0.99      0.99      8940\n",
      "weighted avg       0.99      0.99      0.99      8940\n",
      "\n"
     ]
    }
   ],
   "source": [
    "# 7️⃣ تدريب النموذج\n",
    "model = LogisticRegression(max_iter=200)\n",
    "model.fit(X_train_tfidf, y_train)\n",
    "\n",
    "# 8️⃣ التقييم\n",
    "y_pred = model.predict(X_test_tfidf)\n",
    "print(f\"\\n🎯 Accuracy: {accuracy_score(y_test, y_pred):.4f}\")\n",
    "print(\"\\n📊 Classification Report:\\n\", classification_report(y_test, y_pred))"
   ]
  },
  {
   "cell_type": "code",
   "execution_count": 45,
   "id": "5c59177d-97c1-4e74-a97f-17a280e3c8d7",
   "metadata": {},
   "outputs": [
    {
     "data": {
      "image/png": "[encoded data removed]",
      "text/plain": [
       "<Figure size 640x480 with 2 Axes>"
      ]
     },
     "metadata": {},
     "output_type": "display_data"
    }
   ],
   "source": [
    "# 9️⃣ مصفوفة الالتباس\n",
    "cm = confusion_matrix(y_test, y_pred)\n",
    "sns.heatmap(cm, annot=True, fmt='d', cmap='Blues', xticklabels=['Fake', 'True'], yticklabels=['Fake', 'True'])\n",
    "plt.xlabel('Predicted')\n",
    "plt.ylabel('Actual')\n",
    "plt.title('Confusion Matrix')\n",
    "plt.show()"
   ]
  },
  {
   "cell_type": "code",
   "execution_count": 57,
   "id": "50b8002a-e6be-4a25-bcaf-9167ffa2a57a",
   "metadata": {},
   "outputs": [
    {
     "name": "stdout",
     "output_type": "stream",
     "text": [
      "News 1: Fake\n",
      "News 2: Fake\n",
      "News 3: True\n"
     ]
    }
   ],
   "source": [
    "# 📰 أخبار للاختبار\n",
    "test_news = [\n",
    "    {\n",
    "        \"title\": \"Palestine Rightfully Belongs to the Palestinian People, Not Israel\", \"text\": \"International human rights organizations reaffirm that Palestine is the rightful homeland of the Palestinian people, rejecting any claims of Israeli sovereignty over the land.\"\n",
    "    },\n",
    "    {\n",
    "        \"title\": \"Palestinian President Resigns Over Secret Peace Deal\",\n",
    "        \"text\": \"A viral post alleged that the Palestinian president resigned after signing a secret peace agreement with Israel, but no such agreement or resignation occurred according to official Palestinian sources.\"\n",
    "    },\n",
    "    {\n",
    "        \"title\": \"UN Calls for Immediate Ceasefire in Gaza\",\n",
    "        \"text\": \"The United Nations Security Council issued a statement urging all parties to agree to an immediate ceasefire in Gaza to prevent further civilian casualties. Source: BBC News.\"\n",
    "    },\n",
    "    \n",
    "]\n",
    "\n",
    "# دمج العنوان مع النص وتنظيفهم\n",
    "test_df = pd.DataFrame(test_news)\n",
    "test_df['text'] = test_df['title'] + \" \" + test_df['text']\n",
    "test_df['text'] = test_df['text'].apply(clean_text)  # استخدم دالة التنظيف اللي عرفناها قبل\n",
    "\n",
    "# تحويل النصوص إلى تمثيل رقمي باستخدام نفس الـ vectorizer\n",
    "X_test_custom = vectorizer.transform(test_df['text'])\n",
    "\n",
    "# التنبؤ\n",
    "predictions = model.predict(X_test_custom)\n",
    "\n",
    "# عرض النتيجة\n",
    "for i, pred in enumerate(predictions):\n",
    "    label = \"True\" if pred == 1 else \"Fake\"\n",
    "    print(f\"News {i+1}: {label}\")\n"
   ]
  },
  {
   "cell_type": "code",
   "execution_count": 55,
   "id": "37535fc5-4670-49d5-88b4-abea8ce1c63b",
   "metadata": {},
   "outputs": [
    {
     "data": {
      "text/plain": [
       "['tfidf_vectorizer.pkl']"
      ]
     },
     "execution_count": 55,
     "metadata": {},
     "output_type": "execute_result"
    }
   ],
   "source": [
    "import joblib\n",
    "\n",
    "# حفظ المودل\n",
    "joblib.dump(model, \"fake_news_model.pkl\")\n",
    "\n",
    "# حفظ الـ TF-IDF vectorizer\n",
    "joblib.dump(vectorizer, \"tfidf_vectorizer.pkl\")"
   ]
  },
  {
   "cell_type": "code",
   "execution_count": null,
   "id": "dd9be215-c2f1-4a21-9227-4421a12fe9f7",
   "metadata": {},
   "outputs": [],
   "source": []
  }
 ],
 "metadata": {
  "kernelspec": {
   "display_name": "Python 3 (ipykernel)",
   "language": "python",
   "name": "python3"
  },
  "language_info": {
   "codemirror_mode": {
    "name": "ipython",
    "version": 3
   },
   "file_extension": ".py",
   "mimetype": "text/x-python",
   "name": "python",
   "nbconvert_exporter": "python",
   "pygments_lexer": "ipython3",
   "version": "3.12.4"
  }
 },
 "nbformat": 4,
 "nbformat_minor": 5
}
